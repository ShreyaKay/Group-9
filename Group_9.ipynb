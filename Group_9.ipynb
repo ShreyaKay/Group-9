{
  "nbformat": 4,
  "nbformat_minor": 0,
  "metadata": {
    "colab": {
      "provenance": [],
      "authorship_tag": "ABX9TyOJwbwhACHSMSLh0sF4L/NL",
      "include_colab_link": true
    },
    "kernelspec": {
      "name": "python3",
      "display_name": "Python 3"
    },
    "language_info": {
      "name": "python"
    }
  },
  "cells": [
    {
      "cell_type": "markdown",
      "metadata": {
        "id": "view-in-github",
        "colab_type": "text"
      },
      "source": [
        "<a href=\"https://colab.research.google.com/github/ShreyaKay/Group-9/blob/main/Group_9.ipynb\" target=\"_parent\"><img src=\"https://colab.research.google.com/assets/colab-badge.svg\" alt=\"Open In Colab\"/></a>"
      ]
    },
    {
      "cell_type": "code",
      "execution_count": 5,
      "metadata": {
        "colab": {
          "base_uri": "https://localhost:8080/"
        },
        "id": "zCDOqCuK83gp",
        "outputId": "3a5505d8-d5af-4f4e-d24a-d70f3724076c"
      },
      "outputs": [
        {
          "output_type": "stream",
          "name": "stdout",
          "text": [
            "Cloning into 'Group-9'...\n",
            "remote: Enumerating objects: 6, done.\u001b[K\n",
            "remote: Counting objects:  16% (1/6)\u001b[K\rremote: Counting objects:  33% (2/6)\u001b[K\rremote: Counting objects:  50% (3/6)\u001b[K\rremote: Counting objects:  66% (4/6)\u001b[K\rremote: Counting objects:  83% (5/6)\u001b[K\rremote: Counting objects: 100% (6/6)\u001b[K\rremote: Counting objects: 100% (6/6), done.\u001b[K\n",
            "remote: Compressing objects: 100% (4/4), done.\u001b[K\n",
            "remote: Total 6 (delta 0), reused 0 (delta 0), pack-reused 0 (from 0)\u001b[K\n",
            "Receiving objects: 100% (6/6), 2.34 MiB | 11.09 MiB/s, done.\n",
            "/content/Group-9/Group-9/Group-9/Group-9\n",
            "<class 'pandas.core.frame.DataFrame'>\n",
            "RangeIndex: 62642 entries, 0 to 62641\n",
            "Data columns (total 29 columns):\n",
            " #   Column                   Non-Null Count  Dtype  \n",
            "---  ------                   --------------  -----  \n",
            " 0   timestamp                62642 non-null  object \n",
            " 1   company                  62637 non-null  object \n",
            " 2   level                    62519 non-null  object \n",
            " 3   title                    62642 non-null  object \n",
            " 4   totalyearlycompensation  62642 non-null  int64  \n",
            " 5   location                 62642 non-null  object \n",
            " 6   yearsofexperience        62642 non-null  float64\n",
            " 7   yearsatcompany           62642 non-null  float64\n",
            " 8   tag                      61772 non-null  object \n",
            " 9   basesalary               62642 non-null  int64  \n",
            " 10  stockgrantvalue          62642 non-null  float64\n",
            " 11  bonus                    62642 non-null  float64\n",
            " 12  gender                   43102 non-null  object \n",
            " 13  otherdetails             40134 non-null  object \n",
            " 14  cityid                   62642 non-null  int64  \n",
            " 15  dmaid                    62640 non-null  float64\n",
            " 16  rowNumber                62642 non-null  int64  \n",
            " 17  Masters_Degree           62642 non-null  int64  \n",
            " 18  Bachelors_Degree         62642 non-null  int64  \n",
            " 19  Doctorate_Degree         62642 non-null  int64  \n",
            " 20  Highschool               62642 non-null  int64  \n",
            " 21  Some_College             62642 non-null  int64  \n",
            " 22  Race_Asian               62642 non-null  int64  \n",
            " 23  Race_White               62642 non-null  int64  \n",
            " 24  Race_Two_Or_More         62642 non-null  int64  \n",
            " 25  Race_Black               62642 non-null  int64  \n",
            " 26  Race_Hispanic            62642 non-null  int64  \n",
            " 27  Race                     22427 non-null  object \n",
            " 28  Education                30370 non-null  object \n",
            "dtypes: float64(5), int64(14), object(10)\n",
            "memory usage: 13.9+ MB\n"
          ]
        }
      ],
      "source": [
        "!git clone https://github.com/ShreyaKay/Group-9\n",
        "%cd Group-9\n",
        "df=pd.read_csv('Tech_Salaries_Dataset.csv')\n",
        "df.head(5)\n",
        "df.info()"
      ]
    }
  ]
}